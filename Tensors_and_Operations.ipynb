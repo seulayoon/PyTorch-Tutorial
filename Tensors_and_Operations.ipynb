{
  "nbformat": 4,
  "nbformat_minor": 0,
  "metadata": {
    "colab": {
      "name": "Tensors-and-Operations.ipynb",
      "provenance": [],
      "collapsed_sections": [],
      "authorship_tag": "ABX9TyPouwOMoo14+ULiZgE1nwou",
      "include_colab_link": true
    },
    "kernelspec": {
      "name": "python3",
      "display_name": "Python 3"
    },
    "accelerator": "GPU"
  },
  "cells": [
    {
      "cell_type": "markdown",
      "metadata": {
        "id": "view-in-github",
        "colab_type": "text"
      },
      "source": [
        "<a href=\"https://colab.research.google.com/github/seulayoon/PyTorch-Tutorial/blob/main/Tensors_and_Operations.ipynb\" target=\"_parent\"><img src=\"https://colab.research.google.com/assets/colab-badge.svg\" alt=\"Open In Colab\"/></a>"
      ]
    },
    {
      "cell_type": "markdown",
      "metadata": {
        "id": "P-pkBjGtYUiM"
      },
      "source": [
        "# Tensors\n",
        "\n",
        "Tensor는 Numpy의 ndarray와 유사, GPU를 사용한 연산 가속도 가능"
      ]
    },
    {
      "cell_type": "code",
      "metadata": {
        "id": "YlegXaALAq-l"
      },
      "source": [
        "from __future__ import print_function\n",
        "import torch"
      ],
      "execution_count": 1,
      "outputs": []
    },
    {
      "cell_type": "code",
      "metadata": {
        "colab": {
          "base_uri": "https://localhost:8080/"
        },
        "id": "n-ydOKKRD93l",
        "outputId": "f82bb305-2dd6-40fc-f8fd-9e6cac2d9ac7"
      },
      "source": [
        "x = torch.empty(5, 3) # 초기화되지 않은 행렬 생성\n",
        "print(x)"
      ],
      "execution_count": 2,
      "outputs": [
        {
          "output_type": "stream",
          "text": [
            "tensor([[4.8996e-01, 3.0941e-41, 3.3631e-44],\n",
            "        [0.0000e+00,        nan, 3.0941e-41],\n",
            "        [1.1578e+27, 1.1362e+30, 7.1547e+22],\n",
            "        [4.5828e+30, 1.2121e+04, 7.1846e+22],\n",
            "        [9.2198e-39, 7.0374e+22, 1.5760e-01]])\n"
          ],
          "name": "stdout"
        }
      ]
    },
    {
      "cell_type": "code",
      "metadata": {
        "colab": {
          "base_uri": "https://localhost:8080/"
        },
        "id": "irdfFvtlFcXk",
        "outputId": "4b815b5a-f96b-4e52-ebc1-459b839f0bd2"
      },
      "source": [
        "x = torch.rand(5, 3) # 무작위로 초기화된 행렬 생성\n",
        "print(x)"
      ],
      "execution_count": 3,
      "outputs": [
        {
          "output_type": "stream",
          "text": [
            "tensor([[0.6115, 0.2066, 0.7528],\n",
            "        [0.9410, 0.8530, 0.9193],\n",
            "        [0.0360, 0.2277, 0.4965],\n",
            "        [0.5259, 0.1349, 0.8035],\n",
            "        [0.4738, 0.5430, 0.0595]])\n"
          ],
          "name": "stdout"
        }
      ]
    },
    {
      "cell_type": "code",
      "metadata": {
        "colab": {
          "base_uri": "https://localhost:8080/"
        },
        "id": "2nzvgKWMFm2p",
        "outputId": "9d24de16-6ba1-4254-aa19-262ace0bae8a"
      },
      "source": [
        "x = torch.zeros(5, 3, dtype=torch.long) # dtype이 long이고 0으로 채워진 행렬 생성\n",
        "print(x)"
      ],
      "execution_count": 4,
      "outputs": [
        {
          "output_type": "stream",
          "text": [
            "tensor([[0, 0, 0],\n",
            "        [0, 0, 0],\n",
            "        [0, 0, 0],\n",
            "        [0, 0, 0],\n",
            "        [0, 0, 0]])\n"
          ],
          "name": "stdout"
        }
      ]
    },
    {
      "cell_type": "code",
      "metadata": {
        "colab": {
          "base_uri": "https://localhost:8080/"
        },
        "id": "e9wqqAwMTKPZ",
        "outputId": "9718a8a3-ed7f-474a-8bc4-9e9ef2d9ebd9"
      },
      "source": [
        "x = torch.tensor([5.5, 3]) # 데이터로부터 tensor를 직접 생성\n",
        "print(x)"
      ],
      "execution_count": 5,
      "outputs": [
        {
          "output_type": "stream",
          "text": [
            "tensor([5.5000, 3.0000])\n"
          ],
          "name": "stdout"
        }
      ]
    },
    {
      "cell_type": "code",
      "metadata": {
        "colab": {
          "base_uri": "https://localhost:8080/"
        },
        "id": "5laGY9QbTTWy",
        "outputId": "34bb5529-2d83-47e9-a420-fa526153e12a"
      },
      "source": [
        "# 기존 tensor를 바탕으로 새로운 tensor 생성. \n",
        "# 이들 메소드는 사용자로부터 새로운 값을 제공받지 않은 한, 입력 tensor의 속성들(예. dtype)을 재사용.\n",
        "x = x.new_ones(5, 3, dtype = torch.double) # new_* 메소드는 크기를 받는다.\n",
        "print(x)"
      ],
      "execution_count": 6,
      "outputs": [
        {
          "output_type": "stream",
          "text": [
            "tensor([[1., 1., 1.],\n",
            "        [1., 1., 1.],\n",
            "        [1., 1., 1.],\n",
            "        [1., 1., 1.],\n",
            "        [1., 1., 1.]], dtype=torch.float64)\n"
          ],
          "name": "stdout"
        }
      ]
    },
    {
      "cell_type": "code",
      "metadata": {
        "colab": {
          "base_uri": "https://localhost:8080/"
        },
        "id": "cdHyoNx1XkYg",
        "outputId": "d4d7c6e4-4bab-48ac-9a5c-856455b3260f"
      },
      "source": [
        "x = torch.randn_like(x, dtype=torch.float) # dtype을 오버라이드한다.\n",
        "print(x) # 결과는 동일한 크기를 갖는다."
      ],
      "execution_count": 7,
      "outputs": [
        {
          "output_type": "stream",
          "text": [
            "tensor([[-1.7690,  0.0720,  0.5766],\n",
            "        [ 0.5779,  0.4380,  0.1106],\n",
            "        [ 2.0315, -0.5889,  0.1159],\n",
            "        [-1.3712, -0.1151, -2.1845],\n",
            "        [ 0.5825,  1.0251, -1.6164]])\n"
          ],
          "name": "stdout"
        }
      ]
    },
    {
      "cell_type": "code",
      "metadata": {
        "colab": {
          "base_uri": "https://localhost:8080/"
        },
        "id": "BC6bADn5X74q",
        "outputId": "69e5f911-3e54-4fc6-e340-7b1925b03009"
      },
      "source": [
        "print(x.size())"
      ],
      "execution_count": 8,
      "outputs": [
        {
          "output_type": "stream",
          "text": [
            "torch.Size([5, 3])\n"
          ],
          "name": "stdout"
        }
      ]
    },
    {
      "cell_type": "markdown",
      "metadata": {
        "id": "pRsjv-NwYJQq"
      },
      "source": [
        "torch.Size는 튜플(tuple) 타입으로, 모든 튜플 연산을 지원한다."
      ]
    },
    {
      "cell_type": "markdown",
      "metadata": {
        "id": "5v_9WK2bYh6Q"
      },
      "source": [
        "# 연산(Operations)"
      ]
    },
    {
      "cell_type": "code",
      "metadata": {
        "colab": {
          "base_uri": "https://localhost:8080/"
        },
        "id": "8VMNB6XEYEJB",
        "outputId": "d130ef37-38d6-452c-fe02-7b18a61d72cc"
      },
      "source": [
        "    y = torch.rand(5, 3)\n",
        "    print(x + y)"
      ],
      "execution_count": 9,
      "outputs": [
        {
          "output_type": "stream",
          "text": [
            "tensor([[-0.8855,  1.0549,  1.0769],\n",
            "        [ 1.4198,  1.2943,  0.5960],\n",
            "        [ 2.9666, -0.1665,  0.2059],\n",
            "        [-1.0583,  0.0980, -1.8579],\n",
            "        [ 1.0857,  1.2477, -0.6385]])\n"
          ],
          "name": "stdout"
        }
      ]
    },
    {
      "cell_type": "code",
      "metadata": {
        "colab": {
          "base_uri": "https://localhost:8080/"
        },
        "id": "CswM4WMRmpyc",
        "outputId": "2d57de08-f81f-4e3a-c457-c03516bbb34c"
      },
      "source": [
        "print(torch.add(x, y))"
      ],
      "execution_count": 10,
      "outputs": [
        {
          "output_type": "stream",
          "text": [
            "tensor([[-0.8855,  1.0549,  1.0769],\n",
            "        [ 1.4198,  1.2943,  0.5960],\n",
            "        [ 2.9666, -0.1665,  0.2059],\n",
            "        [-1.0583,  0.0980, -1.8579],\n",
            "        [ 1.0857,  1.2477, -0.6385]])\n"
          ],
          "name": "stdout"
        }
      ]
    },
    {
      "cell_type": "code",
      "metadata": {
        "colab": {
          "base_uri": "https://localhost:8080/"
        },
        "id": "nUMuqC4hn7kj",
        "outputId": "126ee10f-7ea2-4ae3-f024-6604205f012b"
      },
      "source": [
        "result = torch.empty(5, 3)\n",
        "torch.add(x, y, out=result) # 결과 tensor를 인자로 제공 \n",
        "print(result)"
      ],
      "execution_count": 11,
      "outputs": [
        {
          "output_type": "stream",
          "text": [
            "tensor([[-0.8855,  1.0549,  1.0769],\n",
            "        [ 1.4198,  1.2943,  0.5960],\n",
            "        [ 2.9666, -0.1665,  0.2059],\n",
            "        [-1.0583,  0.0980, -1.8579],\n",
            "        [ 1.0857,  1.2477, -0.6385]])\n"
          ],
          "name": "stdout"
        }
      ]
    },
    {
      "cell_type": "markdown",
      "metadata": {
        "id": "QTgBRc9AoXwa"
      },
      "source": [
        "덧셈: 바꿔치기(in-place)방식"
      ]
    },
    {
      "cell_type": "code",
      "metadata": {
        "colab": {
          "base_uri": "https://localhost:8080/"
        },
        "id": "SBb_PYiuoJCT",
        "outputId": "cd2905fa-7e82-42b6-9c82-ead5d70d9e97"
      },
      "source": [
        "y.add_(x) # y에 x 더하기\n",
        "print(y)"
      ],
      "execution_count": 12,
      "outputs": [
        {
          "output_type": "stream",
          "text": [
            "tensor([[-0.8855,  1.0549,  1.0769],\n",
            "        [ 1.4198,  1.2943,  0.5960],\n",
            "        [ 2.9666, -0.1665,  0.2059],\n",
            "        [-1.0583,  0.0980, -1.8579],\n",
            "        [ 1.0857,  1.2477, -0.6385]])\n"
          ],
          "name": "stdout"
        }
      ]
    },
    {
      "cell_type": "markdown",
      "metadata": {
        "id": "4-PeAV6xtgpG"
      },
      "source": [
        "바꿔치기(in-place) 방식으로 tensor의 값을 변경하는 연산 뒤에는 '__'가 붙는다. \n",
        "예: x.copy_(y), x.t_()는 x를 변경한다."
      ]
    },
    {
      "cell_type": "code",
      "metadata": {
        "colab": {
          "base_uri": "https://localhost:8080/"
        },
        "id": "nTyPUaOfoTWV",
        "outputId": "96ec7e46-9b0c-4072-e1ec-fc7effa2f673"
      },
      "source": [
        "print(x[:, 1]) # 인덱싱 사용"
      ],
      "execution_count": 13,
      "outputs": [
        {
          "output_type": "stream",
          "text": [
            "tensor([ 0.0720,  0.4380, -0.5889, -0.1151,  1.0251])\n"
          ],
          "name": "stdout"
        }
      ]
    },
    {
      "cell_type": "markdown",
      "metadata": {
        "id": "vO9zNOgvusPC"
      },
      "source": [
        "크기 변경: tensor의 크기(size)나 모양(shape)을 변경하고 싶다면 torch.view를 사용\n"
      ]
    },
    {
      "cell_type": "code",
      "metadata": {
        "colab": {
          "base_uri": "https://localhost:8080/"
        },
        "id": "6NRtKqmPuVqV",
        "outputId": "223d7982-b69f-4580-aebe-32e51ae93412"
      },
      "source": [
        "x = torch.randn(4, 4)\n",
        "y = x.view(16)\n",
        "z = x.view(-1, 8) # -1은 다른 차원에서 유추\n",
        "print(x.size(), y.size(), z.size())"
      ],
      "execution_count": 14,
      "outputs": [
        {
          "output_type": "stream",
          "text": [
            "torch.Size([4, 4]) torch.Size([16]) torch.Size([2, 8])\n"
          ],
          "name": "stdout"
        }
      ]
    },
    {
      "cell_type": "markdown",
      "metadata": {
        "id": "1O1uqSemvR9O"
      },
      "source": [
        "만약 tensor에 하나의 값만 존재한다면, .item()을 사용하면 숫자 값을 얻을 수 있다."
      ]
    },
    {
      "cell_type": "code",
      "metadata": {
        "colab": {
          "base_uri": "https://localhost:8080/"
        },
        "id": "7TFuQAHgvKAv",
        "outputId": "5797471e-2370-44ac-9cd0-4434f2bf2509"
      },
      "source": [
        "x = torch.randn(1)\n",
        "print(x)\n",
        "print(x.item())"
      ],
      "execution_count": 15,
      "outputs": [
        {
          "output_type": "stream",
          "text": [
            "tensor([1.0362])\n",
            "1.0361651182174683\n"
          ],
          "name": "stdout"
        }
      ]
    },
    {
      "cell_type": "markdown",
      "metadata": {
        "id": "C-JF0olCv4lH"
      },
      "source": [
        "# NumPy 변환(Bridge)\n",
        "\n",
        "Torch Tensor를 NumPy 배열로 변환하거나, 그 반대로 하는 것\n",
        "(Torch Tensor가 CPU 상에 있다면) Torch Tensor와 NumPy 배열은 메모리 공간을 공유하기 때문에, 하나를 변경하면 다른 하나도 변경된다."
      ]
    },
    {
      "cell_type": "markdown",
      "metadata": {
        "id": "oprLwBe_wVUz"
      },
      "source": [
        "## Torch Tensor를 NumPy 배열로 변환하기"
      ]
    },
    {
      "cell_type": "code",
      "metadata": {
        "colab": {
          "base_uri": "https://localhost:8080/"
        },
        "id": "XuHNgcF_vr9x",
        "outputId": "f7d86b2a-1da2-4920-82f4-ab205634a3fa"
      },
      "source": [
        "a = torch.ones(5)\n",
        "print(a)"
      ],
      "execution_count": 16,
      "outputs": [
        {
          "output_type": "stream",
          "text": [
            "tensor([1., 1., 1., 1., 1.])\n"
          ],
          "name": "stdout"
        }
      ]
    },
    {
      "cell_type": "code",
      "metadata": {
        "colab": {
          "base_uri": "https://localhost:8080/"
        },
        "id": "kMJYOvyMwdoJ",
        "outputId": "9ee6d13f-426d-4dc6-c252-483035bcaefc"
      },
      "source": [
        "b = a.numpy()\n",
        "print(b)"
      ],
      "execution_count": 17,
      "outputs": [
        {
          "output_type": "stream",
          "text": [
            "[1. 1. 1. 1. 1.]\n"
          ],
          "name": "stdout"
        }
      ]
    },
    {
      "cell_type": "code",
      "metadata": {
        "colab": {
          "base_uri": "https://localhost:8080/"
        },
        "id": "KemhqMkgwmMx",
        "outputId": "36b72c32-7e41-452b-b5a7-b05e717000db"
      },
      "source": [
        "a.add_(1)\n",
        "print(a)\n",
        "print(b)"
      ],
      "execution_count": 18,
      "outputs": [
        {
          "output_type": "stream",
          "text": [
            "tensor([2., 2., 2., 2., 2.])\n",
            "[2. 2. 2. 2. 2.]\n"
          ],
          "name": "stdout"
        }
      ]
    },
    {
      "cell_type": "markdown",
      "metadata": {
        "id": "whyWjMB7w1SC"
      },
      "source": [
        "## NumPy 배열을 Torch Tensor로 변환하기"
      ]
    },
    {
      "cell_type": "code",
      "metadata": {
        "colab": {
          "base_uri": "https://localhost:8080/"
        },
        "id": "6b-ayXlhwuZO",
        "outputId": "dc24a884-54bb-4fad-b0bd-9919d3fa191b"
      },
      "source": [
        "import numpy as np\n",
        "a = np.ones(5)\n",
        "b = torch.from_numpy(a)\n",
        "np.add(a, 1, out=a)\n",
        "print(a)\n",
        "print(b)"
      ],
      "execution_count": 19,
      "outputs": [
        {
          "output_type": "stream",
          "text": [
            "[2. 2. 2. 2. 2.]\n",
            "tensor([2., 2., 2., 2., 2.], dtype=torch.float64)\n"
          ],
          "name": "stdout"
        }
      ]
    },
    {
      "cell_type": "markdown",
      "metadata": {
        "id": "yRhNCKxAznW9"
      },
      "source": [
        "CharTensor를 제외한 CPU 상의 모든 Tensor는 NumPy로 변환할 수 있고, 반대 변환도 가능"
      ]
    },
    {
      "cell_type": "markdown",
      "metadata": {
        "id": "twRQa8CYz0lF"
      },
      "source": [
        "# CUDA Tensors\n",
        "\n",
        ".to 메소드를 사용하여 Tensor를 어떠한 장치로도 옮길 수 있다."
      ]
    },
    {
      "cell_type": "code",
      "metadata": {
        "colab": {
          "base_uri": "https://localhost:8080/"
        },
        "id": "o1OWyR29xI2F",
        "outputId": "78602d92-e044-42d9-f93d-487e9c6a2a65"
      },
      "source": [
        "# 이 코드는 CUDA가 사용 가능한 환경에서만 실행\n",
        "# 'torch.device'를 사용하여 tensor를 GPU 안팎으로 이동\n",
        "\n",
        "if torch.cuda.is_available():\n",
        "  device = torch.device(\"cuda\") # CUDA 장치 객체(device object)로\n",
        "  y = torch.ones_like(x, device=device) # GPU 상에 직접적으로 tensor를 생성하거나\n",
        "  x = x.to(device) # '.to(\"cuda\")'를 사용하면 된다.\n",
        "  z = x + y\n",
        "  print(z)\n",
        "  print(z.to(\"cpu\", torch.double)) # '.to'는 dtype도 함께 변경한다."
      ],
      "execution_count": 20,
      "outputs": [
        {
          "output_type": "stream",
          "text": [
            "tensor([2.0362], device='cuda:0')\n",
            "tensor([2.0362], dtype=torch.float64)\n"
          ],
          "name": "stdout"
        }
      ]
    }
  ]
}